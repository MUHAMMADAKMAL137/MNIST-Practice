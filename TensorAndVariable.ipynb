{
  "nbformat": 4,
  "nbformat_minor": 0,
  "metadata": {
    "colab": {
      "provenance": [],
      "authorship_tag": "ABX9TyNAvlgJWRuaPL4o1Zp6WsVB",
      "include_colab_link": true
    },
    "kernelspec": {
      "name": "python3",
      "display_name": "Python 3"
    },
    "language_info": {
      "name": "python"
    }
  },
  "cells": [
    {
      "cell_type": "markdown",
      "metadata": {
        "id": "view-in-github",
        "colab_type": "text"
      },
      "source": [
        "<a href=\"https://colab.research.google.com/github/MUHAMMADAKMAL137/MNIST-Practice/blob/main/TensorAndVariable.ipynb\" target=\"_parent\"><img src=\"https://colab.research.google.com/assets/colab-badge.svg\" alt=\"Open In Colab\"/></a>"
      ]
    },
    {
      "cell_type": "code",
      "execution_count": 3,
      "metadata": {
        "id": "WXGKBpyBKcfI"
      },
      "outputs": [],
      "source": [
        "import tensorflow as tf\n",
        "from tensorflow import keras\n",
        "# TensorFlow is an infrastructure layer for differentiable programming. At its heart, it's a framework for manipulating N-dimensional arrays (tensors), much like NumPy.\n",
        "\n",
        "# However, there are three key differences between NumPy and TensorFlow:\n",
        "\n",
        "# TensorFlow can leverage hardware accelerators such as GPUs and TPUs.\n",
        "# TensorFlow can automatically compute the gradient of arbitrary differentiable tensor expressions.\n",
        "# TensorFlow computation can be distributed to large numbers of devices on a single machine, and large number of machines (potentially with multiple devices each).\n",
        "# Let's take a look at the object that is at the core of TensorFlow: the Tensor.\n",
        "\n",
        "# Here's a constant tensor:"
      ]
    },
    {
      "cell_type": "code",
      "source": [
        "x = tf.constant([[5,2], [1,3]])\n",
        "print(x)"
      ],
      "metadata": {
        "colab": {
          "base_uri": "https://localhost:8080/"
        },
        "id": "9i_BLpwTrKxi",
        "outputId": "c71bda0d-ee53-4e53-c091-0753e39280ec"
      },
      "execution_count": 5,
      "outputs": [
        {
          "output_type": "stream",
          "name": "stdout",
          "text": [
            "tf.Tensor(\n",
            "[[5 2]\n",
            " [1 3]], shape=(2, 2), dtype=int32)\n"
          ]
        }
      ]
    },
    {
      "cell_type": "markdown",
      "source": [
        "# New Section"
      ],
      "metadata": {
        "id": "u558hSZyxawL"
      }
    },
    {
      "cell_type": "code",
      "source": [
        "# You can get its value as a NumPy array by calling .numpy():\n",
        "x.numpy()"
      ],
      "metadata": {
        "colab": {
          "base_uri": "https://localhost:8080/"
        },
        "id": "qkC-AnRJsUz3",
        "outputId": "da6dfd09-10fc-4084-db85-40fd7dfb0880"
      },
      "execution_count": 7,
      "outputs": [
        {
          "output_type": "execute_result",
          "data": {
            "text/plain": [
              "array([[5, 2],\n",
              "       [1, 3]], dtype=int32)"
            ]
          },
          "metadata": {},
          "execution_count": 7
        }
      ]
    },
    {
      "cell_type": "code",
      "source": [
        "# Much like a NumPy array, it features the attributes dtype and shape:\n",
        "print(\"data type of x variable \", x.dtype)\n",
        "print(\"Shape of the x variable\", x.shape)"
      ],
      "metadata": {
        "colab": {
          "base_uri": "https://localhost:8080/"
        },
        "id": "0XOEQATDseys",
        "outputId": "ec1fcf9d-8c20-4e96-b916-4f83ed849f0d"
      },
      "execution_count": 9,
      "outputs": [
        {
          "output_type": "stream",
          "name": "stdout",
          "text": [
            "data type of x variable  <dtype: 'int32'>\n",
            "Shape of the x variable (2, 2)\n"
          ]
        }
      ]
    },
    {
      "cell_type": "code",
      "source": [
        "# A common way to create constant tensors is via tf.ones and tf.zeros (just like np.ones and np.zeros):\n",
        "print(tf.ones(shape=(2,1)))\n",
        "print(tf.zeros(shape=(2,1)))"
      ],
      "metadata": {
        "colab": {
          "base_uri": "https://localhost:8080/"
        },
        "id": "_x3Sprj4s0g_",
        "outputId": "e69a5900-66fd-4b1f-b6c2-603b78b80426"
      },
      "execution_count": 12,
      "outputs": [
        {
          "output_type": "stream",
          "name": "stdout",
          "text": [
            "tf.Tensor(\n",
            "[[1.]\n",
            " [1.]], shape=(2, 1), dtype=float32)\n",
            "tf.Tensor(\n",
            "[[0.]\n",
            " [0.]], shape=(2, 1), dtype=float32)\n"
          ]
        }
      ]
    },
    {
      "cell_type": "code",
      "source": [
        "# You can also create random constant tensors:\n",
        "x = tf.random.normal(shape=(2, 2), mean=0.0, stddev=1.0)\n",
        "\n",
        "x = tf.random.uniform(shape=(2, 2), minval=0, maxval=10, dtype=\"int32\")"
      ],
      "metadata": {
        "id": "BIJiqzJitRpY"
      },
      "execution_count": 13,
      "outputs": []
    },
    {
      "cell_type": "code",
      "source": [
        "# Variables are special tensors used to store mutable state (such as the weights of a neural network). You create a Variable using some initial value:\n",
        "initial_value = tf.random.normal(shape=(2, 2))\n",
        "a = tf.Variable(initial_value)\n",
        "print(a)"
      ],
      "metadata": {
        "colab": {
          "base_uri": "https://localhost:8080/"
        },
        "id": "090wFm8rtlcf",
        "outputId": "19990d8e-c4df-4da2-d8dd-fb9de5a8184c"
      },
      "execution_count": 14,
      "outputs": [
        {
          "output_type": "stream",
          "name": "stdout",
          "text": [
            "<tf.Variable 'Variable:0' shape=(2, 2) dtype=float32, numpy=\n",
            "array([[-0.29463077, -0.5981154 ],\n",
            "       [ 1.0049006 ,  1.0057696 ]], dtype=float32)>\n"
          ]
        }
      ]
    },
    {
      "cell_type": "code",
      "source": [
        "# You update the value of a Variable by using the methods .assign(value), .assign_add(increment), or .assign_sub(decrement):\n",
        "new_value = tf.random.normal(shape=(2, 2))\n",
        "a.assign(new_value)\n",
        "for i in range(2):\n",
        "    for j in range(2):\n",
        "        assert a[i, j] == new_value[i, j]\n",
        "\n",
        "added_value = tf.random.normal(shape=(2, 2))\n",
        "a.assign_add(added_value)\n",
        "for i in range(2):\n",
        "    for j in range(2):\n",
        "        assert a[i, j] == new_value[i, j] + added_value[i, j]"
      ],
      "metadata": {
        "id": "7A0Pph6etrmt"
      },
      "execution_count": 15,
      "outputs": []
    },
    {
      "cell_type": "code",
      "source": [],
      "metadata": {
        "id": "gbPdfoHCtzxS"
      },
      "execution_count": null,
      "outputs": []
    }
  ]
}